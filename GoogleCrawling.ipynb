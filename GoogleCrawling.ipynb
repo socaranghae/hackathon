{
  "nbformat": 4,
  "nbformat_minor": 0,
  "metadata": {
    "colab": {
      "name": "GoogleCrawling.ipynb",
      "provenance": []
    },
    "kernelspec": {
      "name": "python3",
      "display_name": "Python 3"
    },
    "language_info": {
      "name": "python"
    }
  },
  "cells": [
    {
      "cell_type": "code",
      "execution_count": null,
      "metadata": {
        "id": "vZSzDbFYfPiu"
      },
      "outputs": [],
      "source": [
        "from google.colab import drive\n",
        "drive.mount('/content/drive')"
      ]
    },
    {
      "cell_type": "code",
      "source": [
        "# !pip install selenium\n",
        "# !apt-get update\n",
        "# !apt install chromium-chromedriver\n",
        "# !cp /usr/lib/chromium-browser/chromedriver /usr/bin\n",
        "# !pip install webdriver_manager"
      ],
      "metadata": {
        "id": "qEU6w4Dpi73_"
      },
      "execution_count": null,
      "outputs": []
    },
    {
      "cell_type": "code",
      "source": [
        "import urllib.request\n",
        "from urllib.request import urlopen\n",
        "import re\n",
        "import requests\n",
        "import os\n",
        "import pandas as pd\n",
        "import time\n",
        "from selenium import webdriver as wb\n",
        "from selenium.webdriver.common.keys import Keys\n",
        "from bs4 import BeautifulSoup as bs\n",
        "import selenium\n",
        "from selenium.webdriver.common.by import By\n",
        "from webdriver_manager.chrome import ChromeDriverManager"
      ],
      "metadata": {
        "id": "8RPLqhj2i8lb"
      },
      "execution_count": null,
      "outputs": []
    },
    {
      "cell_type": "code",
      "source": [
        "import datetime\n",
        "\n",
        "def scroll_down(driver, whileSeconds):\n",
        "    start = datetime.datetime.now()\n",
        "    end = start + datetime.timedelta(seconds=whileSeconds)\n",
        "    while True:\n",
        "        driver.execute_script('window.scrollTo(0, document.body.scrollHeight);')\n",
        "        time.sleep(1)\n",
        " \n",
        "        try:\n",
        "            driver.find_element(By.CSS_SELECTOR, \".mye4qd\").click()\n",
        "            time.sleep(2)\n",
        "        except:\n",
        "            pass\n",
        "\n",
        "        if datetime.datetime.now() > end:\n",
        "            break\n",
        "\n",
        "def make_dir(dir):\n",
        "    try:\n",
        "        if not os.path.exists(dir):\n",
        "            os.makedirs(dir)\n",
        "    except OSError:\n",
        "        print('Error: failed to create the directory.')\n",
        "\n",
        "def crawling_imgs(keyword, n):\n",
        "    options = wb.ChromeOptions()\n",
        "    options.add_argument('--headless')\n",
        "    options.add_argument('--no-sandbox')\n",
        "    options.add_argument('--disable-dev-shm-usage')\n",
        "    options.add_argument(\"user-agent=Mozilla/5.0 (Windows NT 10.0; Win64; x64) AppleWebKit/537.36 (KHTML, like Gecko) Chrome/99.0.4844.84 Safari/537.36\")\n",
        "    driver  = wb.Chrome('chromedriver', options=options)\n",
        "\n",
        "    driver.get('https://www.google.co.kr/imghp?hl=ko&tab=wi&authuser=0&ogbl')\n",
        "    elem = driver.find_element(By.NAME, 'q')\n",
        "    elem.send_keys(keyword)\n",
        "    elem.send_keys(Keys.RETURN)\n",
        "\n",
        "    scroll_down(driver=driver, whileSeconds=90)\n",
        "\n",
        "    imgs = driver.find_elements(By.CSS_SELECTOR, '.rg_i.Q4LuWd')\n",
        "\n",
        "    path = '/content/drive/MyDrive/Colab Notebooks/Place/' + keyword +'/'\n",
        "    make_dir(path)\n",
        "\n",
        "    count = 1\n",
        "    for img in imgs:\n",
        "        try:\n",
        "            img.click()\n",
        "            time.sleep(1)\n",
        "            imgUrl = driver.find_element(By.XPATH, '//*[@id=\"Sva75c\"]/div/div/div[3]/div[2]/c-wiz/div/div[1]/div[1]/div[3]/div/a/img').get_attribute('src')\n",
        "            urllib.request.urlretrieve(imgUrl, path + keyword + str(count)+'.jpg')\n",
        "            count += 1\n",
        "\n",
        "            if count > n:\n",
        "                break\n",
        "        except:\n",
        "            pass\n",
        "    driver.quit()"
      ],
      "metadata": {
        "id": "OmmrnGrxi9ql"
      },
      "execution_count": null,
      "outputs": []
    },
    {
      "cell_type": "code",
      "source": [
        "crawling_imgs('forest', 1000)"
      ],
      "metadata": {
        "id": "-qIxbn7dkG-y"
      },
      "execution_count": null,
      "outputs": []
    }
  ]
}